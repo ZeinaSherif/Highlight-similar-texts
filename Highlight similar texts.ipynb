{
 "cells": [
  {
   "cell_type": "code",
   "execution_count": 1,
   "metadata": {},
   "outputs": [],
   "source": [
    "from nltk.tokenize import sent_tokenize\n",
    "from sklearn.feature_extraction.text import TfidfVectorizer\n",
    "from sklearn.metrics.pairwise import cosine_similarity\n",
    "import numpy as np\n",
    "import matplotlib.colors as mcolors\n",
    "import matplotlib.cm as cm"
   ]
  },
  {
   "cell_type": "code",
   "execution_count": 2,
   "metadata": {},
   "outputs": [],
   "source": [
    "# This function reads and tokenizes sentences\n",
    "\n",
    "def read_text_files(file_paths):\n",
    "    sentences = []\n",
    "    for file_path in file_paths:\n",
    "        with open(file_path, 'r', encoding='utf-8') as file:\n",
    "            text = file.read()\n",
    "            sentences.extend(sent_tokenize(text))\n",
    "    return sentences"
   ]
  },
  {
   "cell_type": "code",
   "execution_count": 3,
   "metadata": {},
   "outputs": [],
   "source": [
    "# This function calculates the similarity between a list of sentences using TF-IDF vectorization and cosine similarity\n",
    "\n",
    "def calculate_similarity(sentences):\n",
    "    vectorizer = TfidfVectorizer()\n",
    "    tfidf_matrix = vectorizer.fit_transform(sentences)\n",
    "    similarity_matrix = cosine_similarity(tfidf_matrix)\n",
    "    return similarity_matrix\n"
   ]
  },
  {
   "cell_type": "code",
   "execution_count": 4,
   "metadata": {},
   "outputs": [],
   "source": [
    "# This function maps similarity values to colors using a colormap and returns the corresponding hex color codes\n",
    "\n",
    "def map_similarity_to_color(similarity_matrix):\n",
    "    norm = mcolors.Normalize(vmin=0, vmax=1)\n",
    "    colormap = cm.get_cmap('hsv')\n",
    "    \n",
    "    colors = []\n",
    "    for i in range(len(similarity_matrix)):\n",
    "        avg_similarity = np.mean(similarity_matrix[i])\n",
    "        color = colormap(norm(avg_similarity))\n",
    "        colors.append(mcolors.rgb2hex(color[:3]))\n",
    "    return colors\n"
   ]
  },
  {
   "cell_type": "code",
   "execution_count": 5,
   "metadata": {},
   "outputs": [],
   "source": [
    "# This function takes a list of sentences and a list of colors, \n",
    "# and generates an HTML content with each sentence displayed with the corresponding background color\n",
    "\n",
    "def generate_html(sentences, colors):\n",
    "    html_content = \"<html><body>\"\n",
    "    for sentence, color in zip(sentences, colors):\n",
    "        html_content += f'<span style=\"background-color: {color};\">{sentence} </span>'\n",
    "    html_content += \"</body></html>\"\n",
    "    return html_content\n",
    "\n",
    "# This function saves the generated HTML content to a specified output path\n",
    "\n",
    "def save_html(html_content, output_path):\n",
    "    with open(output_path, 'w', encoding='utf-8') as file:\n",
    "        file.write(html_content)\n"
   ]
  },
  {
   "cell_type": "code",
   "execution_count": 6,
   "metadata": {},
   "outputs": [],
   "source": [
    "def main(file_paths, output_path):\n",
    "    sentences = read_text_files(file_paths)\n",
    "    similarity_matrix = calculate_similarity(sentences)\n",
    "    colors = map_similarity_to_color(similarity_matrix)\n",
    "    html_content = generate_html(sentences, colors)\n",
    "    save_html(html_content, output_path)"
   ]
  },
  {
   "cell_type": "code",
   "execution_count": 7,
   "metadata": {},
   "outputs": [
    {
     "name": "stderr",
     "output_type": "stream",
     "text": [
      "C:\\Users\\LENOVO\\AppData\\Local\\Temp\\ipykernel_20032\\2800105641.py:5: MatplotlibDeprecationWarning: The get_cmap function was deprecated in Matplotlib 3.7 and will be removed two minor releases later. Use ``matplotlib.colormaps[name]`` or ``matplotlib.colormaps.get_cmap(obj)`` instead.\n",
      "  colormap = cm.get_cmap('hsv')\n"
     ]
    }
   ],
   "source": [
    "file_paths = ['C:\\\\Users\\\\LENOVO\\\\Desktop\\\\file1.txt', 'C:\\\\Users\\\\LENOVO\\\\Desktop\\\\file2.txt']  \n",
    "output_path = 'C:\\\\Users\\\\LENOVO\\\\Desktop\\\\Output.html'\n",
    "main(file_paths, output_path)"
   ]
  }
 ],
 "metadata": {
  "kernelspec": {
   "display_name": "Python 3",
   "language": "python",
   "name": "python3"
  },
  "language_info": {
   "codemirror_mode": {
    "name": "ipython",
    "version": 3
   },
   "file_extension": ".py",
   "mimetype": "text/x-python",
   "name": "python",
   "nbconvert_exporter": "python",
   "pygments_lexer": "ipython3",
   "version": "3.11.2"
  }
 },
 "nbformat": 4,
 "nbformat_minor": 2
}
